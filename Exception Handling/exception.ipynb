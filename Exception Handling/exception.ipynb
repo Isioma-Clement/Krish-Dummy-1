{
 "cells": [
  {
   "cell_type": "code",
   "execution_count": 1,
   "metadata": {},
   "outputs": [
    {
     "data": {
      "text/plain": [
       "0.1"
      ]
     },
     "execution_count": 1,
     "metadata": {},
     "output_type": "execute_result"
    }
   ],
   "source": [
    "1/10"
   ]
  },
  {
   "cell_type": "code",
   "execution_count": 5,
   "metadata": {},
   "outputs": [
    {
     "ename": "ZeroDivisionError",
     "evalue": "division by zero",
     "output_type": "error",
     "traceback": [
      "\u001b[31m---------------------------------------------------------------------------\u001b[39m",
      "\u001b[31mZeroDivisionError\u001b[39m                         Traceback (most recent call last)",
      "\u001b[36mCell\u001b[39m\u001b[36m \u001b[39m\u001b[32mIn[5]\u001b[39m\u001b[32m, line 1\u001b[39m\n\u001b[32m----> \u001b[39m\u001b[32m1\u001b[39m \u001b[32;43m10\u001b[39;49m\u001b[43m/\u001b[49m\u001b[32;43m0\u001b[39;49m\n",
      "\u001b[31mZeroDivisionError\u001b[39m: division by zero"
     ]
    }
   ],
   "source": [
    "10/0"
   ]
  },
  {
   "cell_type": "code",
   "execution_count": 6,
   "metadata": {},
   "outputs": [
    {
     "ename": "SyntaxError",
     "evalue": "incomplete input (2375425206.py, line 1)",
     "output_type": "error",
     "traceback": [
      "  \u001b[36mCell\u001b[39m\u001b[36m \u001b[39m\u001b[32mIn[6]\u001b[39m\u001b[32m, line 1\u001b[39m\n\u001b[31m    \u001b[39m\u001b[31mprint(5\u001b[39m\n           ^\n\u001b[31mSyntaxError\u001b[39m\u001b[31m:\u001b[39m incomplete input\n"
     ]
    }
   ],
   "source": [
    "print(5"
   ]
  },
  {
   "cell_type": "code",
   "execution_count": 7,
   "metadata": {},
   "outputs": [
    {
     "ename": "ValueError",
     "evalue": "invalid literal for int() with base 10: 'hello'",
     "output_type": "error",
     "traceback": [
      "\u001b[31m---------------------------------------------------------------------------\u001b[39m",
      "\u001b[31mValueError\u001b[39m                                Traceback (most recent call last)",
      "\u001b[36mCell\u001b[39m\u001b[36m \u001b[39m\u001b[32mIn[7]\u001b[39m\u001b[32m, line 1\u001b[39m\n\u001b[32m----> \u001b[39m\u001b[32m1\u001b[39m \u001b[38;5;28;43mint\u001b[39;49m\u001b[43m(\u001b[49m\u001b[33;43m\"\u001b[39;49m\u001b[33;43mhello\u001b[39;49m\u001b[33;43m\"\u001b[39;49m\u001b[43m)\u001b[49m\n",
      "\u001b[31mValueError\u001b[39m: invalid literal for int() with base 10: 'hello'"
     ]
    }
   ],
   "source": [
    "int(\"hello\")"
   ]
  },
  {
   "cell_type": "markdown",
   "metadata": {},
   "source": [
    "## Try-Except"
   ]
  },
  {
   "cell_type": "code",
   "execution_count": 13,
   "metadata": {},
   "outputs": [
    {
     "name": "stdout",
     "output_type": "stream",
     "text": [
      "2\n",
      "2\n",
      "2\n",
      "Did not enter a valid number\n"
     ]
    }
   ],
   "source": [
    "try:\n",
    "    for i in range(4):\n",
    "        a= input(\"Enter a number\")\n",
    "        a = int(a)\n",
    "        print(a)\n",
    "except:\n",
    "    print(\"Did not enter a valid number\")"
   ]
  },
  {
   "cell_type": "code",
   "execution_count": 14,
   "metadata": {},
   "outputs": [
    {
     "name": "stdout",
     "output_type": "stream",
     "text": [
      "3\n",
      "3\n",
      "Invalid Entry\n"
     ]
    }
   ],
   "source": [
    "# you can also specify the type of error you want to catch\n",
    "\n",
    "try:\n",
    "    for i in range(5):\n",
    "        a= input(\"Enter a number: \")\n",
    "        a= int(a)\n",
    "        print(a)\n",
    "except ValueError:\n",
    "    print(\"Invalid Entry\")"
   ]
  },
  {
   "cell_type": "code",
   "execution_count": null,
   "metadata": {},
   "outputs": [
    {
     "ename": "ZeroDivisionError",
     "evalue": "division by zero",
     "output_type": "error",
     "traceback": [
      "\u001b[31m---------------------------------------------------------------------------\u001b[39m",
      "\u001b[31mZeroDivisionError\u001b[39m                         Traceback (most recent call last)",
      "\u001b[36mCell\u001b[39m\u001b[36m \u001b[39m\u001b[32mIn[15]\u001b[39m\u001b[32m, line 2\u001b[39m\n\u001b[32m      1\u001b[39m \u001b[38;5;28;01mtry\u001b[39;00m:\n\u001b[32m----> \u001b[39m\u001b[32m2\u001b[39m     \u001b[32;43m10\u001b[39;49m\u001b[43m/\u001b[49m\u001b[32;43m0\u001b[39;49m\n\u001b[32m      3\u001b[39m \u001b[38;5;28;01mexcept\u001b[39;00m \u001b[38;5;167;01mValueError\u001b[39;00m:\n\u001b[32m      4\u001b[39m     \u001b[38;5;28mprint\u001b[39m(\u001b[33m\"\u001b[39m\u001b[33mNumber indivisible by zero\u001b[39m\u001b[33m\"\u001b[39m)\n",
      "\u001b[31mZeroDivisionError\u001b[39m: division by zero"
     ]
    }
   ],
   "source": [
    "# this code will break because this operation throws a ZeroDivision error and not a valueError\n",
    "# therefore the zeroDivisionError is not handled by the try-except block.\n",
    "try:\n",
    "    10/0\n",
    "except ValueError:\n",
    "    print(\"Number indivisible by zero\")"
   ]
  },
  {
   "cell_type": "code",
   "execution_count": 16,
   "metadata": {},
   "outputs": [],
   "source": [
    "# Handling multiple types of errors\n",
    "try:\n",
    "    0/10\n",
    "except (ValueError, ZeroDivisionError):\n",
    "    print(\"Invalid Operation\")\n"
   ]
  },
  {
   "cell_type": "code",
   "execution_count": 17,
   "metadata": {},
   "outputs": [
    {
     "name": "stdout",
     "output_type": "stream",
     "text": [
      "Invalid Operation\n",
      "Invalid literal for int()\n"
     ]
    }
   ],
   "source": [
    "# Handling multiple types of errors\n",
    "try:\n",
    "    0/10\n",
    "    b= int(\"Hello\")\n",
    "    print(b)\n",
    "except (ValueError, ZeroDivisionError):\n",
    "    print(\"Invalid Operation\")\n",
    "    print(\"Invalid literal for int()\")\n"
   ]
  },
  {
   "cell_type": "code",
   "execution_count": null,
   "metadata": {},
   "outputs": [
    {
     "name": "stdout",
     "output_type": "stream",
     "text": [
      "0ne or both enrties is invalid\n"
     ]
    }
   ],
   "source": [
    "try:\n",
    "    a = int(input(\"Enter a number: \"))\n",
    "    b = int(input(\"Enter another number\"))\n",
    "    c = a/b\n",
    "\n",
    "    print(c)\n",
    "\n",
    "except(ValueError, ZeroDivisionError):\n",
    "    print(\"0ne or both enrties is invalid\")\n"
   ]
  },
  {
   "cell_type": "code",
   "execution_count": 32,
   "metadata": {},
   "outputs": [
    {
     "name": "stdout",
     "output_type": "stream",
     "text": [
      "0ne or both enrties is invalid:  invalid literal for int() with base 10: 'hey'\n"
     ]
    }
   ],
   "source": [
    "# Exception as e - handles any type of exception\n",
    "try:\n",
    "    a = int(input(\"Enter a number: \"))\n",
    "    b = int(input(\"Enter another number\"))\n",
    "    c = a/b\n",
    "\n",
    "    print(c)\n",
    "    \n",
    "except Exception as e:\n",
    "    print(\"0ne or both enrties is invalid: \", e)\n"
   ]
  },
  {
   "cell_type": "code",
   "execution_count": null,
   "metadata": {},
   "outputs": [
    {
     "name": "stdout",
     "output_type": "stream",
     "text": [
      "User is trying to divide number by 0\n"
     ]
    }
   ],
   "source": [
    "# You can mention multiple EXCEPT blocks to be more specific\n",
    "\n",
    "try:\n",
    "    a = 0\n",
    "    a = int(a)\n",
    "    b = \"ad\"\n",
    "    print(10/a)\n",
    "    int(b)\n",
    "    print(b)\n",
    "except ValueError:\n",
    "    print(\"User is trying to convert a string to an integer\")\n",
    "except ZeroDivisionError:\n",
    "    print(\"User is trying to divide number by 0\")\n",
    "except Exception as e:\n",
    "    print(\"Error encountered: \", e)"
   ]
  },
  {
   "cell_type": "markdown",
   "metadata": {},
   "source": [
    "## Finally\n",
    "\n",
    "##### The finally block in exception handling is used to define code that should always run, regardless of whether an exception was raised or not. It is most commonly used for clean-up tasks, such as closing files, releasing resources, or resetting variables.\n",
    "\n",
    "##### Key Reasons to Use finally:\n",
    "\n",
    "##### Guaranteed Execution: Code in the finally block runs no matter what — whether: an exception was raised and handled, an exception was raised but not handled, or no exception was raised at all.\n",
    "\n",
    "##### Resource Management: Used to ensure that resources like files, network connections, or database connections are properly closed or released."
   ]
  },
  {
   "cell_type": "code",
   "execution_count": null,
   "metadata": {},
   "outputs": [
    {
     "name": "stdout",
     "output_type": "stream",
     "text": [
      "0ne or both enrties is invalid:  invalid literal for int() with base 10: 'r'\n",
      "Input section executed successfully\n"
     ]
    }
   ],
   "source": [
    "try:\n",
    "    a = int(input(\"Enter a number: \"))\n",
    "    b = int(input(\"Enter another number\"))\n",
    "    c = a/b\n",
    "\n",
    "    print(c)\n",
    "    \n",
    "except Exception as e:\n",
    "    print(\"0ne or both enrties is invalid: \", e)\n",
    "finally:\n",
    "    print(\"Input section executed\")\n"
   ]
  },
  {
   "cell_type": "code",
   "execution_count": 48,
   "metadata": {},
   "outputs": [
    {
     "name": "stdout",
     "output_type": "stream",
     "text": [
      "An error occured:  [Errno 2] No such file or directory: 'C:\\\\Users\\\\Isioma\\\\Documents\\\\Ultimate Data Science and GenAI Bootcamp\\\\test5.txt.'\n"
     ]
    }
   ],
   "source": [
    "try:\n",
    "    file = open (r\"C:\\Users\\Isioma\\Documents\\Ultimate Data Science and GenAI Bootcamp\\test5.txt.\", \"r\")\n",
    "except Exception as e:\n",
    "    print(\"An error occured: \", e)\n",
    "finally:\n",
    "    file.close()\n"
   ]
  },
  {
   "cell_type": "markdown",
   "metadata": {},
   "source": [
    "### Else\n",
    "\n",
    "##### In Python’s exception handling, the **else** block is optional and runs only if no exception occurs in the try block. It's useful for keeping your code clean by separating error-prone code (in try) from normal code (in else).\n",
    "\n"
   ]
  },
  {
   "cell_type": "code",
   "execution_count": 50,
   "metadata": {},
   "outputs": [
    {
     "name": "stdout",
     "output_type": "stream",
     "text": [
      "That is not a valid number!\n",
      "Done!\n"
     ]
    }
   ],
   "source": [
    "# with ELSE block\n",
    "\n",
    "try:\n",
    "    number = input(\"Enter a number\")\n",
    "    number = int(number)\n",
    "except ValueError:\n",
    "    print(\"That is not a valid number!\")\n",
    "else:\n",
    "    print(\"Great, your number is: \", number)\n",
    "finally:\n",
    "    print(\"Done!\")"
   ]
  },
  {
   "cell_type": "markdown",
   "metadata": {},
   "source": [
    "### Raise\n",
    "\n",
    "##### The raise statement in Python is used to manually trigger an exception. You can use it to:\n",
    "\n",
    "##### 1. Raise built-in exceptions when your program detects an error.\n",
    "\n",
    "##### 2. Re-raise caught exceptions after doing something with them.\n",
    "\n",
    "##### 3. Raise custom exceptions you define yourself.\n"
   ]
  },
  {
   "cell_type": "code",
   "execution_count": 2,
   "metadata": {},
   "outputs": [
    {
     "ename": "ValueError",
     "evalue": "Age cannot be negative or greater than 100",
     "output_type": "error",
     "traceback": [
      "\u001b[31m---------------------------------------------------------------------------\u001b[39m",
      "\u001b[31mValueError\u001b[39m                                Traceback (most recent call last)",
      "\u001b[36mCell\u001b[39m\u001b[36m \u001b[39m\u001b[32mIn[2]\u001b[39m\u001b[32m, line 10\u001b[39m\n\u001b[32m      6\u001b[39m         \u001b[38;5;28;01mraise\u001b[39;00m \u001b[38;5;167;01mValueError\u001b[39;00m(\u001b[33m\"\u001b[39m\u001b[33mAge cannot be negative or greater than 100\u001b[39m\u001b[33m\"\u001b[39m)\n\u001b[32m      8\u001b[39m     \u001b[38;5;28;01mreturn\u001b[39;00m age_int\n\u001b[32m---> \u001b[39m\u001b[32m10\u001b[39m \u001b[43mtake_age\u001b[49m\u001b[43m(\u001b[49m\u001b[43m)\u001b[49m\n",
      "\u001b[36mCell\u001b[39m\u001b[36m \u001b[39m\u001b[32mIn[2]\u001b[39m\u001b[32m, line 6\u001b[39m, in \u001b[36mtake_age\u001b[39m\u001b[34m()\u001b[39m\n\u001b[32m      4\u001b[39m age_int = \u001b[38;5;28mint\u001b[39m(\u001b[38;5;28minput\u001b[39m(\u001b[33m\"\u001b[39m\u001b[33mEnter your age:\u001b[39m\u001b[33m\"\u001b[39m))\n\u001b[32m      5\u001b[39m \u001b[38;5;28;01mif\u001b[39;00m age_int < \u001b[32m0\u001b[39m \u001b[38;5;129;01mor\u001b[39;00m age_int >\u001b[32m100\u001b[39m:\n\u001b[32m----> \u001b[39m\u001b[32m6\u001b[39m     \u001b[38;5;28;01mraise\u001b[39;00m \u001b[38;5;167;01mValueError\u001b[39;00m(\u001b[33m\"\u001b[39m\u001b[33mAge cannot be negative or greater than 100\u001b[39m\u001b[33m\"\u001b[39m)\n\u001b[32m      8\u001b[39m \u001b[38;5;28;01mreturn\u001b[39;00m age_int\n",
      "\u001b[31mValueError\u001b[39m: Age cannot be negative or greater than 100"
     ]
    }
   ],
   "source": [
    "# raise ValueError if age entered is not within the range of 0-100\n",
    "\n",
    "def take_age():\n",
    "    age_int = int(input(\"Enter your age:\"))\n",
    "    if age_int < 0 or age_int >100:\n",
    "        raise ValueError(\"Age cannot be negative or greater than 100\")\n",
    "\n",
    "    return age_int\n",
    "\n",
    "take_age()\n"
   ]
  },
  {
   "cell_type": "code",
   "execution_count": 9,
   "metadata": {},
   "outputs": [],
   "source": [
    "\n",
    "def valid_age():\n",
    "    try: \n",
    "        age= int(input(\"Please enter your age: \"))\n",
    "        if age<1 or age>100:\n",
    "            raise ValueError(\"Age cannot be less than 1 or greater than 100\")\n",
    "        else:\n",
    "            print(age)\n",
    "    except Exception as e:\n",
    "        print(e)\n"
   ]
  },
  {
   "cell_type": "code",
   "execution_count": 10,
   "metadata": {},
   "outputs": [
    {
     "name": "stdout",
     "output_type": "stream",
     "text": [
      "Age cannot be less than 1 or greater than 100\n"
     ]
    }
   ],
   "source": [
    "valid_age()"
   ]
  },
  {
   "cell_type": "code",
   "execution_count": 53,
   "metadata": {},
   "outputs": [
    {
     "name": "stdout",
     "output_type": "stream",
     "text": [
      "Logging the error: division by zero\n"
     ]
    },
    {
     "ename": "ZeroDivisionError",
     "evalue": "division by zero",
     "output_type": "error",
     "traceback": [
      "\u001b[31m---------------------------------------------------------------------------\u001b[39m",
      "\u001b[31mZeroDivisionError\u001b[39m                         Traceback (most recent call last)",
      "\u001b[36mCell\u001b[39m\u001b[36m \u001b[39m\u001b[32mIn[53]\u001b[39m\u001b[32m, line 2\u001b[39m\n\u001b[32m      1\u001b[39m \u001b[38;5;28;01mtry\u001b[39;00m:\n\u001b[32m----> \u001b[39m\u001b[32m2\u001b[39m     x = \u001b[32;43m1\u001b[39;49m\u001b[43m \u001b[49m\u001b[43m/\u001b[49m\u001b[43m \u001b[49m\u001b[32;43m0\u001b[39;49m\n\u001b[32m      3\u001b[39m \u001b[38;5;28;01mexcept\u001b[39;00m \u001b[38;5;167;01mZeroDivisionError\u001b[39;00m \u001b[38;5;28;01mas\u001b[39;00m e:\n\u001b[32m      4\u001b[39m     \u001b[38;5;28mprint\u001b[39m(\u001b[33m\"\u001b[39m\u001b[33mLogging the error:\u001b[39m\u001b[33m\"\u001b[39m, e)\n",
      "\u001b[31mZeroDivisionError\u001b[39m: division by zero"
     ]
    }
   ],
   "source": [
    "try:\n",
    "    x = 1 / 0\n",
    "except ZeroDivisionError as e:\n",
    "    print(\"Logging the error:\", e)\n",
    "    raise  # re-raises the same exception\n"
   ]
  },
  {
   "cell_type": "code",
   "execution_count": 61,
   "metadata": {},
   "outputs": [
    {
     "data": {
      "text/plain": [
       "['__cause__',\n",
       " '__class__',\n",
       " '__context__',\n",
       " '__delattr__',\n",
       " '__dict__',\n",
       " '__dir__',\n",
       " '__doc__',\n",
       " '__eq__',\n",
       " '__format__',\n",
       " '__ge__',\n",
       " '__getattribute__',\n",
       " '__getstate__',\n",
       " '__gt__',\n",
       " '__hash__',\n",
       " '__init__',\n",
       " '__init_subclass__',\n",
       " '__le__',\n",
       " '__lt__',\n",
       " '__ne__',\n",
       " '__new__',\n",
       " '__reduce__',\n",
       " '__reduce_ex__',\n",
       " '__repr__',\n",
       " '__setattr__',\n",
       " '__setstate__',\n",
       " '__sizeof__',\n",
       " '__str__',\n",
       " '__subclasshook__',\n",
       " '__suppress_context__',\n",
       " '__traceback__',\n",
       " 'add_note',\n",
       " 'args',\n",
       " 'with_traceback']"
      ]
     },
     "execution_count": 61,
     "metadata": {},
     "output_type": "execute_result"
    }
   ],
   "source": [
    "dir(Exception)"
   ]
  },
  {
   "cell_type": "code",
   "execution_count": null,
   "metadata": {},
   "outputs": [],
   "source": []
  }
 ],
 "metadata": {
  "kernelspec": {
   "display_name": "Python 3",
   "language": "python",
   "name": "python3"
  },
  "language_info": {
   "codemirror_mode": {
    "name": "ipython",
    "version": 3
   },
   "file_extension": ".py",
   "mimetype": "text/x-python",
   "name": "python",
   "nbconvert_exporter": "python",
   "pygments_lexer": "ipython3",
   "version": "3.12.3"
  }
 },
 "nbformat": 4,
 "nbformat_minor": 2
}
