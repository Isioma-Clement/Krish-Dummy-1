{
 "cells": [
  {
   "cell_type": "markdown",
   "metadata": {},
   "source": [
    "File Operations basically means working with files."
   ]
  },
  {
   "cell_type": "markdown",
   "metadata": {},
   "source": []
  },
  {
   "cell_type": "code",
   "execution_count": 5,
   "metadata": {},
   "outputs": [],
   "source": [
    "import os"
   ]
  },
  {
   "cell_type": "code",
   "execution_count": null,
   "metadata": {},
   "outputs": [
    {
     "data": {
      "text/plain": [
       "'c:\\\\Users\\\\Isioma\\\\Documents\\\\Ultimate Data Science and GenAI Bootcamp'"
      ]
     },
     "execution_count": 6,
     "metadata": {},
     "output_type": "execute_result"
    }
   ],
   "source": [
    "# Get the current working directory\n",
    "\n",
    "os.getcwd()"
   ]
  },
  {
   "cell_type": "code",
   "execution_count": 8,
   "metadata": {},
   "outputs": [
    {
     "data": {
      "text/plain": [
       "['File_Operations.ipynb']"
      ]
     },
     "execution_count": 8,
     "metadata": {},
     "output_type": "execute_result"
    }
   ],
   "source": [
    "# Get a list of files in the directory\n",
    "\n",
    "os.listdir()"
   ]
  },
  {
   "cell_type": "code",
   "execution_count": 9,
   "metadata": {},
   "outputs": [
    {
     "data": {
      "text/plain": [
       "'c:\\\\Users\\\\Isioma\\\\Documents\\\\Ultimate Data Science and GenAI Bootcamp\\\\test.txt'"
      ]
     },
     "execution_count": 9,
     "metadata": {},
     "output_type": "execute_result"
    }
   ],
   "source": [
    "os.path.join(os.getcwd(), \"test.txt\")"
   ]
  },
  {
   "cell_type": "code",
   "execution_count": null,
   "metadata": {},
   "outputs": [],
   "source": [
    "file = open(\"test.txt\")\n",
    "# you can also use (\"./test.txt\")\n",
    "#./ means current directory"
   ]
  },
  {
   "cell_type": "code",
   "execution_count": 27,
   "metadata": {},
   "outputs": [
    {
     "name": "stdout",
     "output_type": "stream",
     "text": [
      "c:\\Users\\Isioma\\Documents\\Ultimate Data Science and GenAI Bootcamp\\test.txt\n",
      "File created for practice\n",
      "\n"
     ]
    }
   ],
   "source": [
    "# To use full path , which is the best practice\n",
    "full_path = os.path.join(os.getcwd(), \"test.txt\")\n",
    "print(full_path)\n",
    "file = open(full_path)\n",
    "file_content = file.read()\n",
    "print(file_content)"
   ]
  },
  {
   "cell_type": "code",
   "execution_count": null,
   "metadata": {},
   "outputs": [],
   "source": [
    "file_content = file.read() # reads all the content of a file"
   ]
  },
  {
   "cell_type": "code",
   "execution_count": 21,
   "metadata": {},
   "outputs": [
    {
     "name": "stdout",
     "output_type": "stream",
     "text": [
      "File created for practice\n",
      "\n"
     ]
    }
   ],
   "source": [
    "print(file_content)"
   ]
  },
  {
   "cell_type": "code",
   "execution_count": null,
   "metadata": {},
   "outputs": [
    {
     "name": "stdout",
     "output_type": "stream",
     "text": [
      "File created for practice\n",
      "\n"
     ]
    }
   ],
   "source": [
    "# Readlines\n",
    "file_directory = os.getcwd()\n",
    "file_name = \"test.txt\"\n",
    "full_path = os.path.join(file_directory, file_name)\n",
    "open_file = open(full_path)\n",
    "file_content = open_file.readline()\n",
    "\n",
    "print(file_content)\n"
   ]
  },
  {
   "cell_type": "code",
   "execution_count": 36,
   "metadata": {},
   "outputs": [
    {
     "name": "stdout",
     "output_type": "stream",
     "text": [
      "Lorem Ipsum has been the industry's standard dummy text ever since the 1500s, when an unknown printer took a galley of type and scrambled it to make a type specimen book. \n",
      "\n"
     ]
    }
   ],
   "source": [
    "line = open_file.readline()\n",
    "print(line)\n",
    "open_file.close()"
   ]
  },
  {
   "cell_type": "code",
   "execution_count": null,
   "metadata": {},
   "outputs": [
    {
     "name": "stdout",
     "output_type": "stream",
     "text": [
      "['File created for practice\\n', 'Lorem Ipsum is simply dummy text of the printing and typesetting industry. \\n', \"Lorem Ipsum has been the industry's standard dummy text ever since the 1500s, when an unknown printer took a galley of type and scrambled it to make a type specimen book. \\n\", 'It has survived not only five centuries, but also the leap into electronic typesetting, remaining essentially unchanged. \\n', 'It was popularised in the 1960s with the release of Letraset sheets containing Lorem Ipsum passages, and more recently with desktop publishing software like Aldus PageMaker including versions of Lorem Ipsum.']\n"
     ]
    }
   ],
   "source": [
    "# Using context manager \"with\"\n",
    "# with -> context manager -> automatically handles closing of a file\n",
    "# there is no need to write a separate command to close file\n",
    "\n",
    "with open(full_path) as f:\n",
    "   lines = f.readlines()\n",
    "   print(lines)"
   ]
  },
  {
   "cell_type": "markdown",
   "metadata": {},
   "source": [
    "## File Modes"
   ]
  },
  {
   "cell_type": "markdown",
   "metadata": {},
   "source": [
    "##### \"r\" = Read - will throw error if file does not exist \n",
    "##### \"w\" = Write - creates a new file or overwrites the existing file\n",
    "##### \"a\" = Append - adds to existing file, it will also create a new file if non_existent\n",
    "##### \"+\" = Update - works in combination with other modes. E.g. r+, w+, a+ \n",
    "##### a+ is the most versatile as it will read, write, append and create file if non_existent"
   ]
  },
  {
   "cell_type": "code",
   "execution_count": null,
   "metadata": {},
   "outputs": [
    {
     "name": "stdout",
     "output_type": "stream",
     "text": [
      "File created for practice\n",
      "Lorem Ipsum is simply dummy text of the printing and typesetting industry. \n",
      "Lorem Ipsum has been the industry's standard dummy text ever since the 1500s, when an unknown printer took a galley of type and scrambled it to make a type specimen book. \n",
      "It has survived not only five centuries, but also the leap into electronic typesetting, remaining essentially unchanged. \n",
      "It was popularised in the 1960s with the release of Letraset sheets containing Lorem Ipsum passages, and more recently with desktop publishing software like Aldus PageMaker including versions of Lorem Ipsum.\n"
     ]
    }
   ],
   "source": [
    "# \"r\"\n",
    "with open(full_path,\"r\") as f:\n",
    "    content = f.read()\n",
    "    print(content)"
   ]
  },
  {
   "cell_type": "code",
   "execution_count": 40,
   "metadata": {},
   "outputs": [],
   "source": [
    "# \"w\"\n",
    "with open(\"test2.txt\",\"w\") as f:\n",
    "    f.write(\"Hello, how are you\")"
   ]
  },
  {
   "cell_type": "code",
   "execution_count": 41,
   "metadata": {},
   "outputs": [],
   "source": [
    "# \"w\"\n",
    "with open(\"test2.txt\",\"w\") as f:\n",
    "    f.write(\"Are you good. \\n\")"
   ]
  },
  {
   "cell_type": "code",
   "execution_count": null,
   "metadata": {},
   "outputs": [],
   "source": [
    "# writelines allows you to write multiple thing to a file. It can take in a list, whereas the write() argument must be a string\n",
    "new_texts= [\"Hello, you alright?\", \"yeah\", \"right\"]\n",
    "with open(\"test.txt\",\"w\") as f:\n",
    "    f.writelines(new_texts)"
   ]
  },
  {
   "cell_type": "code",
   "execution_count": 46,
   "metadata": {},
   "outputs": [],
   "source": [
    "# \"a\"\n",
    "\n",
    "with open(\"test2.txt\", \"a\") as f:\n",
    "    f.write(\"Appended text\")"
   ]
  },
  {
   "cell_type": "code",
   "execution_count": 48,
   "metadata": {},
   "outputs": [],
   "source": [
    "with open(\"test2.txt\", \"a\") as f:\n",
    "    f.write(\"\\nAppended text\\n\")"
   ]
  },
  {
   "cell_type": "code",
   "execution_count": 49,
   "metadata": {},
   "outputs": [],
   "source": [
    "new_lines = [\"see here for new line\\n\", \"free tomorrow?\\n\"]\n",
    "with open(\"test2.txt\", \"a\") as f:\n",
    "    f.writelines(new_lines)"
   ]
  },
  {
   "cell_type": "code",
   "execution_count": null,
   "metadata": {},
   "outputs": [],
   "source": [
    "# a -append will also create file if not exists\n",
    "\n",
    "new_lines = [\"see here for new line\\n\", \"free tomorrow?\\n\"]\n",
    "with open(\"test3.txt\", \"a\") as f:\n",
    "    f.writelines(new_lines)"
   ]
  },
  {
   "cell_type": "code",
   "execution_count": 56,
   "metadata": {},
   "outputs": [],
   "source": [
    "# \"+\"\n",
    "id = 1\n",
    "name = input(\"Enter your name: \")\n",
    "age = input(\"Enter your age: \")\n",
    "\n",
    "with open(\"test_dummy.txt\", \"a+\") as f:\n",
    "    details = str(id) + \",\" + name + \",\"+ age + \"\\n\"\n",
    "    f.write(details)\n",
    "\n",
    "id +=1"
   ]
  },
  {
   "cell_type": "code",
   "execution_count": null,
   "metadata": {},
   "outputs": [],
   "source": []
  },
  {
   "cell_type": "code",
   "execution_count": null,
   "metadata": {},
   "outputs": [],
   "source": []
  }
 ],
 "metadata": {
  "kernelspec": {
   "display_name": "Python 3",
   "language": "python",
   "name": "python3"
  },
  "language_info": {
   "codemirror_mode": {
    "name": "ipython",
    "version": 3
   },
   "file_extension": ".py",
   "mimetype": "text/x-python",
   "name": "python",
   "nbconvert_exporter": "python",
   "pygments_lexer": "ipython3",
   "version": "3.12.3"
  }
 },
 "nbformat": 4,
 "nbformat_minor": 2
}
